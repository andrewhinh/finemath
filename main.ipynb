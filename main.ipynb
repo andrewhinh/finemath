{
 "cells": [
  {
   "cell_type": "markdown",
   "metadata": {},
   "source": [
    "# setup\n"
   ]
  },
  {
   "cell_type": "code",
   "execution_count": 1,
   "metadata": {},
   "outputs": [
    {
     "name": "stderr",
     "output_type": "stream",
     "text": [
      "/home/andrewhinh/Desktop/Projects/finemath/.venv/lib/python3.12/site-packages/tqdm/auto.py:21: TqdmWarning: IProgress not found. Please update jupyter and ipywidgets. See https://ipywidgets.readthedocs.io/en/stable/user_install.html\n",
      "  from .autonotebook import tqdm as notebook_tqdm\n"
     ]
    }
   ],
   "source": [
    "import math\n",
    "import os\n",
    "import re\n",
    "import json\n",
    "\n",
    "import datasets\n",
    "# from datasets import load_dataset\n",
    "import graphviz\n",
    "import matplotlib.pyplot as plt\n",
    "import numpy as np\n",
    "import pandas as pd\n",
    "import scipy\n",
    "from dtreeviz.trees import dtreeviz\n",
    "from scipy.stats import norm\n",
    "from scipy.cluster import hierarchy as hc\n",
    "from scipy.interpolate import interp1d\n",
    "from sklearn.ensemble import RandomForestRegressor, HistGradientBoostingRegressor\n",
    "from sklearn.inspection import PartialDependenceDisplay\n",
    "from sklearn.tree import DecisionTreeRegressor, export_graphviz\n",
    "from sklearn.feature_extraction.text import TfidfVectorizer\n",
    "from scipy.sparse import hstack\n",
    "from treeinterpreter import treeinterpreter\n",
    "from waterfall_chart import plot as waterfall\n",
    "\n",
    "\n",
    "os.environ[\"TOKENIZERS_PARALLELISM\"] = \"false\"\n",
    "os.environ[\"HF_HUB_ENABLE_HF_TRANSFER\"] = \"1\"\n",
    "\n",
    "pd.options.display.max_rows = 20\n",
    "pd.options.display.max_columns = 8"
   ]
  },
  {
   "cell_type": "code",
   "execution_count": 2,
   "metadata": {},
   "outputs": [],
   "source": [
    "seed = 42\n",
    "num_samples = 100000\n",
    "save_path = \"finemath-4plus-100k\"\n",
    "processed_path = \"data/\""
   ]
  },
  {
   "cell_type": "markdown",
   "metadata": {},
   "source": [
    "# preprocessing"
   ]
  },
  {
   "cell_type": "markdown",
   "metadata": {},
   "source": [
    "## load full and save subset"
   ]
  },
  {
   "cell_type": "code",
   "execution_count": 3,
   "metadata": {},
   "outputs": [],
   "source": [
    "\n",
    "# data = load_dataset(\"HuggingFaceTB/finemath\", \"finemath-4plus\", split=\"train\", cache_dir=None, num_proc=8)\n",
    "# data"
   ]
  },
  {
   "cell_type": "code",
   "execution_count": 4,
   "metadata": {},
   "outputs": [],
   "source": [
    "# data = data.shuffle(seed=seed).select(range(num_samples))\n",
    "# data"
   ]
  },
  {
   "cell_type": "code",
   "execution_count": 5,
   "metadata": {},
   "outputs": [],
   "source": [
    "# data.save_to_disk(save_path)"
   ]
  },
  {
   "cell_type": "markdown",
   "metadata": {},
   "source": [
    "## load subset"
   ]
  },
  {
   "cell_type": "code",
   "execution_count": 6,
   "metadata": {},
   "outputs": [
    {
     "data": {
      "text/plain": [
       "Dataset({\n",
       "    features: ['url', 'fetch_time', 'content_mime_type', 'warc_filename', 'warc_record_offset', 'warc_record_length', 'text', 'token_count', 'char_count', 'metadata', 'score', 'int_score', 'crawl', 'snapshot_type', 'language', 'language_score'],\n",
       "    num_rows: 100000\n",
       "})"
      ]
     },
     "execution_count": 6,
     "metadata": {},
     "output_type": "execute_result"
    }
   ],
   "source": [
    "data = datasets.load_from_disk(save_path)\n",
    "data\n"
   ]
  },
  {
   "cell_type": "code",
   "execution_count": 7,
   "metadata": {},
   "outputs": [
    {
     "data": {
      "text/html": [
       "<div>\n",
       "<style scoped>\n",
       "    .dataframe tbody tr th:only-of-type {\n",
       "        vertical-align: middle;\n",
       "    }\n",
       "\n",
       "    .dataframe tbody tr th {\n",
       "        vertical-align: top;\n",
       "    }\n",
       "\n",
       "    .dataframe thead th {\n",
       "        text-align: right;\n",
       "    }\n",
       "</style>\n",
       "<table border=\"1\" class=\"dataframe\">\n",
       "  <thead>\n",
       "    <tr style=\"text-align: right;\">\n",
       "      <th></th>\n",
       "      <th>url</th>\n",
       "      <th>fetch_time</th>\n",
       "      <th>content_mime_type</th>\n",
       "      <th>warc_filename</th>\n",
       "      <th>...</th>\n",
       "      <th>crawl</th>\n",
       "      <th>snapshot_type</th>\n",
       "      <th>language</th>\n",
       "      <th>language_score</th>\n",
       "    </tr>\n",
       "  </thead>\n",
       "  <tbody>\n",
       "    <tr>\n",
       "      <th>0</th>\n",
       "      <td>https://www.gradesaver.com/textbooks/math/calc...</td>\n",
       "      <td>1576415061000000000</td>\n",
       "      <td>text/html</td>\n",
       "      <td>crawl-data/CC-MAIN-2019-51/segments/1575541308...</td>\n",
       "      <td>...</td>\n",
       "      <td>CC-MAIN-2019-51</td>\n",
       "      <td>latest</td>\n",
       "      <td>en</td>\n",
       "      <td>0.745761</td>\n",
       "    </tr>\n",
       "    <tr>\n",
       "      <th>1</th>\n",
       "      <td>https://www.physicsforums.com/threads/financia...</td>\n",
       "      <td>1519549007000000000</td>\n",
       "      <td>text/html</td>\n",
       "      <td>crawl-data/CC-MAIN-2018-09/segments/1518891816...</td>\n",
       "      <td>...</td>\n",
       "      <td>CC-MAIN-2018-09</td>\n",
       "      <td>longest</td>\n",
       "      <td>en</td>\n",
       "      <td>0.968464</td>\n",
       "    </tr>\n",
       "    <tr>\n",
       "      <th>2</th>\n",
       "      <td>https://quizanswered.com/module-8-ac-amplifier...</td>\n",
       "      <td>1686384188000000000</td>\n",
       "      <td>text/html</td>\n",
       "      <td>crawl-data/CC-MAIN-2023-23/segments/1685224657...</td>\n",
       "      <td>...</td>\n",
       "      <td>CC-MAIN-2023-23</td>\n",
       "      <td>latest</td>\n",
       "      <td>en</td>\n",
       "      <td>0.855330</td>\n",
       "    </tr>\n",
       "    <tr>\n",
       "      <th>3</th>\n",
       "      <td>https://workforce.libretexts.org/Bookshelves/E...</td>\n",
       "      <td>1582270100000000000</td>\n",
       "      <td>text/html</td>\n",
       "      <td>crawl-data/CC-MAIN-2020-10/segments/1581875145...</td>\n",
       "      <td>...</td>\n",
       "      <td>CC-MAIN-2020-10</td>\n",
       "      <td>latest</td>\n",
       "      <td>en</td>\n",
       "      <td>0.920674</td>\n",
       "    </tr>\n",
       "    <tr>\n",
       "      <th>4</th>\n",
       "      <td>https://www.physicsforums.com/threads/inequali...</td>\n",
       "      <td>1505907042000000000</td>\n",
       "      <td>text/html</td>\n",
       "      <td>crawl-data/CC-MAIN-2017-39/segments/1505818687...</td>\n",
       "      <td>...</td>\n",
       "      <td>CC-MAIN-2017-39</td>\n",
       "      <td>longest</td>\n",
       "      <td>en</td>\n",
       "      <td>0.877909</td>\n",
       "    </tr>\n",
       "  </tbody>\n",
       "</table>\n",
       "<p>5 rows × 16 columns</p>\n",
       "</div>"
      ],
      "text/plain": [
       "                                                 url           fetch_time  \\\n",
       "0  https://www.gradesaver.com/textbooks/math/calc...  1576415061000000000   \n",
       "1  https://www.physicsforums.com/threads/financia...  1519549007000000000   \n",
       "2  https://quizanswered.com/module-8-ac-amplifier...  1686384188000000000   \n",
       "3  https://workforce.libretexts.org/Bookshelves/E...  1582270100000000000   \n",
       "4  https://www.physicsforums.com/threads/inequali...  1505907042000000000   \n",
       "\n",
       "  content_mime_type                                      warc_filename  ...  \\\n",
       "0         text/html  crawl-data/CC-MAIN-2019-51/segments/1575541308...  ...   \n",
       "1         text/html  crawl-data/CC-MAIN-2018-09/segments/1518891816...  ...   \n",
       "2         text/html  crawl-data/CC-MAIN-2023-23/segments/1685224657...  ...   \n",
       "3         text/html  crawl-data/CC-MAIN-2020-10/segments/1581875145...  ...   \n",
       "4         text/html  crawl-data/CC-MAIN-2017-39/segments/1505818687...  ...   \n",
       "\n",
       "             crawl  snapshot_type language  language_score  \n",
       "0  CC-MAIN-2019-51         latest       en        0.745761  \n",
       "1  CC-MAIN-2018-09        longest       en        0.968464  \n",
       "2  CC-MAIN-2023-23         latest       en        0.855330  \n",
       "3  CC-MAIN-2020-10         latest       en        0.920674  \n",
       "4  CC-MAIN-2017-39        longest       en        0.877909  \n",
       "\n",
       "[5 rows x 16 columns]"
      ]
     },
     "execution_count": 7,
     "metadata": {},
     "output_type": "execute_result"
    }
   ],
   "source": [
    "df = data.to_pandas()\n",
    "df.head()\n"
   ]
  },
  {
   "cell_type": "markdown",
   "metadata": {},
   "source": [
    "## feature engineering\n",
    "\n",
    "```python\n",
    "Schema:\n",
    "{\n",
    "    'url': string,               # Source page URL\n",
    "    'fetch_time': int64,         # Crawler timestamp\n",
    "    'content_mime_type': string, # MIME type\n",
    "    'warc_filename': string,     # Common Crawl WARC source file\n",
    "    'warc_record_offset': int32, # WARC record offset, in bytes\n",
    "    'warc_record_length': int32, # WARC record size, in bytes\n",
    "    'text': string,             # Page content\n",
    "    'token_count': int32,       # Number of Llama tokens\n",
    "    'char_count': int32,        # Character count\n",
    "    'metadata': string,         # Additional OpenWebMath metadata\n",
    "    'score': float64,           # Raw quality score\n",
    "    'int_score': int64,         # Integer quality score\n",
    "    'crawl': string,            # Common Crawl crawl identifier\n",
    "    'snapshot_type': string,    # Whether the page is the latest or the largest for this URL\n",
    "    'language': string,         # Document language\n",
    "    'language_score': float64   # LangID probability\n",
    "}\n",
    "```"
   ]
  },
  {
   "cell_type": "markdown",
   "metadata": {},
   "source": [
    "### dependent variable\n",
    "\n",
    "Convert score to N(0,1) distribution and remove int_score column."
   ]
  },
  {
   "cell_type": "code",
   "execution_count": 8,
   "metadata": {},
   "outputs": [
    {
     "data": {
      "text/plain": [
       "count    100000.000000\n",
       "mean          3.976711\n",
       "std           0.352080\n",
       "min           3.500000\n",
       "25%           3.687500\n",
       "50%           3.906250\n",
       "75%           4.218750\n",
       "max           5.125000\n",
       "Name: score, dtype: float64"
      ]
     },
     "execution_count": 8,
     "metadata": {},
     "output_type": "execute_result"
    }
   ],
   "source": [
    "df[\"score\"].describe()"
   ]
  },
  {
   "cell_type": "code",
   "execution_count": 9,
   "metadata": {},
   "outputs": [
    {
     "name": "stdout",
     "output_type": "stream",
     "text": [
      "Min score: 3.5, Max score: 5.125\n"
     ]
    }
   ],
   "source": [
    "min_score, max_score = df[\"score\"].min(), df[\"score\"].max()\n",
    "print(f\"Min score: {min_score}, Max score: {max_score}\")\n"
   ]
  },
  {
   "cell_type": "code",
   "execution_count": 10,
   "metadata": {},
   "outputs": [
    {
     "data": {
      "image/png": "[encoded data removed]",
      "text/plain": [
       "<Figure size 640x480 with 1 Axes>"
      ]
     },
     "metadata": {},
     "output_type": "display_data"
    }
   ],
   "source": [
    "df[\"score\"].hist(bins=100)\n",
    "plt.xlabel(\"Score\")\n",
    "plt.ylabel(\"Frequency\")\n",
    "plt.title(\"Distribution of Score\")\n",
    "plt.show()\n"
   ]
  },
  {
   "cell_type": "code",
   "execution_count": 11,
   "metadata": {},
   "outputs": [],
   "source": [
    "class RankINT:\n",
    "    \"\"\"Forward = exact N(0,1); inverse = quantile interpolation.\"\"\"\n",
    "    def fit(self, y: pd.Series | np.ndarray):\n",
    "        y = np.asarray(y, float)\n",
    "        self.y_sorted = np.sort(y)\n",
    "        n           = len(y)\n",
    "        self.z_grid = norm.ppf((np.arange(1, n+1) - .5) / n)   # convert to percentile -> z-score\n",
    "        self._inv   = interp1d(self.z_grid,\n",
    "                               self.y_sorted,\n",
    "                               bounds_error=False,\n",
    "                               fill_value=(self.y_sorted[0], self.y_sorted[-1]))  # 1-D monotone interpolation for inverse transform\n",
    "        return self\n",
    "\n",
    "    def transform(self, y: pd.Series | np.ndarray):\n",
    "        \"\"\"Forward INT (needs the full vector because of ranks).\"\"\"\n",
    "        y = pd.Series(y)\n",
    "        r = y.rank(method=\"first\").to_numpy()       # 1 … n\n",
    "        n = len(y)\n",
    "        return norm.ppf((r - .5) / n)\n",
    "\n",
    "    def inverse_transform(self, z_pred: float | np.ndarray):\n",
    "        \"\"\"Map a single (or array of) N(0,1) value(s) back to score space.\"\"\"\n",
    "        return self._inv(z_pred)"
   ]
  },
  {
   "cell_type": "code",
   "execution_count": 12,
   "metadata": {},
   "outputs": [
    {
     "data": {
      "text/plain": [
       "count    1.000000e+05\n",
       "mean    -1.421085e-17\n",
       "std      9.999983e-01\n",
       "min     -4.417173e+00\n",
       "25%     -6.744819e-01\n",
       "50%      6.957359e-17\n",
       "75%      6.744819e-01\n",
       "max      4.417173e+00\n",
       "Name: score, dtype: float64"
      ]
     },
     "execution_count": 12,
     "metadata": {},
     "output_type": "execute_result"
    }
   ],
   "source": [
    "int_tf = RankINT().fit(df[\"score\"])       # store mapping\n",
    "df[\"score\"] = int_tf.transform(df[\"score\"])\n",
    "df[\"score\"].describe()"
   ]
  },
  {
   "cell_type": "code",
   "execution_count": 13,
   "metadata": {},
   "outputs": [
    {
     "data": {
      "image/png": "[encoded data removed]",
      "text/plain": [
       "<Figure size 640x480 with 1 Axes>"
      ]
     },
     "metadata": {},
     "output_type": "display_data"
    }
   ],
   "source": [
    "df[\"score\"].hist(bins=100)\n",
    "plt.xlabel(\"Normalized Score\")\n",
    "plt.ylabel(\"Frequency\")\n",
    "plt.title(\"Distribution of Normalized Score\")\n",
    "plt.show()\n"
   ]
  },
  {
   "cell_type": "code",
   "execution_count": 14,
   "metadata": {},
   "outputs": [
    {
     "data": {
      "text/html": [
       "<div>\n",
       "<style scoped>\n",
       "    .dataframe tbody tr th:only-of-type {\n",
       "        vertical-align: middle;\n",
       "    }\n",
       "\n",
       "    .dataframe tbody tr th {\n",
       "        vertical-align: top;\n",
       "    }\n",
       "\n",
       "    .dataframe thead th {\n",
       "        text-align: right;\n",
       "    }\n",
       "</style>\n",
       "<table border=\"1\" class=\"dataframe\">\n",
       "  <thead>\n",
       "    <tr style=\"text-align: right;\">\n",
       "      <th></th>\n",
       "      <th>url</th>\n",
       "      <th>fetch_time</th>\n",
       "      <th>content_mime_type</th>\n",
       "      <th>warc_filename</th>\n",
       "      <th>...</th>\n",
       "      <th>crawl</th>\n",
       "      <th>snapshot_type</th>\n",
       "      <th>language</th>\n",
       "      <th>language_score</th>\n",
       "    </tr>\n",
       "  </thead>\n",
       "  <tbody>\n",
       "    <tr>\n",
       "      <th>0</th>\n",
       "      <td>https://www.gradesaver.com/textbooks/math/calc...</td>\n",
       "      <td>1576415061000000000</td>\n",
       "      <td>text/html</td>\n",
       "      <td>crawl-data/CC-MAIN-2019-51/segments/1575541308...</td>\n",
       "      <td>...</td>\n",
       "      <td>CC-MAIN-2019-51</td>\n",
       "      <td>latest</td>\n",
       "      <td>en</td>\n",
       "      <td>0.745761</td>\n",
       "    </tr>\n",
       "    <tr>\n",
       "      <th>1</th>\n",
       "      <td>https://www.physicsforums.com/threads/financia...</td>\n",
       "      <td>1519549007000000000</td>\n",
       "      <td>text/html</td>\n",
       "      <td>crawl-data/CC-MAIN-2018-09/segments/1518891816...</td>\n",
       "      <td>...</td>\n",
       "      <td>CC-MAIN-2018-09</td>\n",
       "      <td>longest</td>\n",
       "      <td>en</td>\n",
       "      <td>0.968464</td>\n",
       "    </tr>\n",
       "    <tr>\n",
       "      <th>2</th>\n",
       "      <td>https://quizanswered.com/module-8-ac-amplifier...</td>\n",
       "      <td>1686384188000000000</td>\n",
       "      <td>text/html</td>\n",
       "      <td>crawl-data/CC-MAIN-2023-23/segments/1685224657...</td>\n",
       "      <td>...</td>\n",
       "      <td>CC-MAIN-2023-23</td>\n",
       "      <td>latest</td>\n",
       "      <td>en</td>\n",
       "      <td>0.855330</td>\n",
       "    </tr>\n",
       "    <tr>\n",
       "      <th>3</th>\n",
       "      <td>https://workforce.libretexts.org/Bookshelves/E...</td>\n",
       "      <td>1582270100000000000</td>\n",
       "      <td>text/html</td>\n",
       "      <td>crawl-data/CC-MAIN-2020-10/segments/1581875145...</td>\n",
       "      <td>...</td>\n",
       "      <td>CC-MAIN-2020-10</td>\n",
       "      <td>latest</td>\n",
       "      <td>en</td>\n",
       "      <td>0.920674</td>\n",
       "    </tr>\n",
       "    <tr>\n",
       "      <th>4</th>\n",
       "      <td>https://www.physicsforums.com/threads/inequali...</td>\n",
       "      <td>1505907042000000000</td>\n",
       "      <td>text/html</td>\n",
       "      <td>crawl-data/CC-MAIN-2017-39/segments/1505818687...</td>\n",
       "      <td>...</td>\n",
       "      <td>CC-MAIN-2017-39</td>\n",
       "      <td>longest</td>\n",
       "      <td>en</td>\n",
       "      <td>0.877909</td>\n",
       "    </tr>\n",
       "  </tbody>\n",
       "</table>\n",
       "<p>5 rows × 15 columns</p>\n",
       "</div>"
      ],
      "text/plain": [
       "                                                 url           fetch_time  \\\n",
       "0  https://www.gradesaver.com/textbooks/math/calc...  1576415061000000000   \n",
       "1  https://www.physicsforums.com/threads/financia...  1519549007000000000   \n",
       "2  https://quizanswered.com/module-8-ac-amplifier...  1686384188000000000   \n",
       "3  https://workforce.libretexts.org/Bookshelves/E...  1582270100000000000   \n",
       "4  https://www.physicsforums.com/threads/inequali...  1505907042000000000   \n",
       "\n",
       "  content_mime_type                                      warc_filename  ...  \\\n",
       "0         text/html  crawl-data/CC-MAIN-2019-51/segments/1575541308...  ...   \n",
       "1         text/html  crawl-data/CC-MAIN-2018-09/segments/1518891816...  ...   \n",
       "2         text/html  crawl-data/CC-MAIN-2023-23/segments/1685224657...  ...   \n",
       "3         text/html  crawl-data/CC-MAIN-2020-10/segments/1581875145...  ...   \n",
       "4         text/html  crawl-data/CC-MAIN-2017-39/segments/1505818687...  ...   \n",
       "\n",
       "             crawl  snapshot_type language  language_score  \n",
       "0  CC-MAIN-2019-51         latest       en        0.745761  \n",
       "1  CC-MAIN-2018-09        longest       en        0.968464  \n",
       "2  CC-MAIN-2023-23         latest       en        0.855330  \n",
       "3  CC-MAIN-2020-10         latest       en        0.920674  \n",
       "4  CC-MAIN-2017-39        longest       en        0.877909  \n",
       "\n",
       "[5 rows x 15 columns]"
      ]
     },
     "execution_count": 14,
     "metadata": {},
     "output_type": "execute_result"
    }
   ],
   "source": [
    "df.drop(columns=[\"int_score\"], inplace=True)\n",
    "df.head()"
   ]
  },
  {
   "cell_type": "markdown",
   "metadata": {},
   "source": [
    "### dates\n",
    "\n",
    "Use date column `fetch_time` to create features.\n"
   ]
  },
  {
   "cell_type": "code",
   "execution_count": 15,
   "metadata": {},
   "outputs": [
    {
     "data": {
      "image/png": "[encoded data removed]",
      "text/plain": [
       "<Figure size 640x480 with 1 Axes>"
      ]
     },
     "metadata": {},
     "output_type": "display_data"
    }
   ],
   "source": [
    "def make_date(df, date_field):  # make sure `df[date_field]` is of the right date type\n",
    "    field_dtype = df[date_field].dtype\n",
    "    if isinstance(field_dtype, pd.core.dtypes.dtypes.DatetimeTZDtype):\n",
    "        field_dtype = np.datetime64\n",
    "    if not np.issubdtype(field_dtype, np.datetime64):\n",
    "        df[date_field] = pd.to_datetime(df[date_field])\n",
    "\n",
    "\n",
    "make_date(df, \"fetch_time\")\n",
    "df[\"fetch_time\"].hist(bins=100)\n",
    "plt.xlabel(\"Fetch Time\")\n",
    "plt.ylabel(\"Frequency\")\n",
    "plt.title(\"Distribution of Fetch Time\")\n",
    "plt.show()"
   ]
  },
  {
   "cell_type": "code",
   "execution_count": 16,
   "metadata": {},
   "outputs": [
    {
     "data": {
      "text/plain": [
       "'fetch_timeYear fetch_timeMonth fetch_timeWeek fetch_timeDay fetch_timeDayofweek fetch_timeDayofyear fetch_timeIs_month_end fetch_timeIs_month_start fetch_timeIs_quarter_end fetch_timeIs_quarter_start fetch_timeIs_year_end fetch_timeIs_year_start fetch_timeElapsed'"
      ]
     },
     "execution_count": 16,
     "metadata": {},
     "output_type": "execute_result"
    }
   ],
   "source": [
    "def add_datepart(df, field_name, prefix=None, drop=True, time=False):\n",
    "    make_date(df, field_name)\n",
    "    field = df[field_name]\n",
    "    prefix = prefix if prefix else re.sub(\"[Dd]ate$\", \"\", field_name)\n",
    "    attr = [\n",
    "        \"Year\",\n",
    "        \"Month\",\n",
    "        \"Week\",\n",
    "        \"Day\",\n",
    "        \"Dayofweek\",\n",
    "        \"Dayofyear\",\n",
    "        \"Is_month_end\",\n",
    "        \"Is_month_start\",\n",
    "        \"Is_quarter_end\",\n",
    "        \"Is_quarter_start\",\n",
    "        \"Is_year_end\",\n",
    "        \"Is_year_start\",\n",
    "    ]\n",
    "    if time:\n",
    "        attr = attr + [\"Hour\", \"Minute\", \"Second\"]\n",
    "    # Pandas removed `dt.week` in v1.1.10\n",
    "    week = (\n",
    "        field.dt.isocalendar().week.astype(field.dt.day.dtype)\n",
    "        if hasattr(field.dt, \"isocalendar\")\n",
    "        else field.dt.week\n",
    "    )\n",
    "    for n in attr:\n",
    "        df[prefix + n] = getattr(field.dt, n.lower()) if n != \"Week\" else week\n",
    "    mask = ~field.isna()\n",
    "    df[prefix + \"Elapsed\"] = np.where(\n",
    "        mask, field.values.astype(np.int64) // 10**9, np.nan\n",
    "    )\n",
    "    if drop:\n",
    "        df.drop(field_name, axis=1, inplace=True)\n",
    "\n",
    "\n",
    "add_datepart(df, \"fetch_time\")\n",
    "\" \".join(o for o in df.columns if o.startswith(\"fetch_time\"))"
   ]
  },
  {
   "cell_type": "markdown",
   "metadata": {},
   "source": [
    "### load metadata"
   ]
  },
  {
   "cell_type": "code",
   "execution_count": 17,
   "metadata": {},
   "outputs": [
    {
     "data": {
      "text/plain": [
       "{'found_math': True,\n",
       " 'script_math_tex': 0,\n",
       " 'script_math_asciimath': 0,\n",
       " 'math_annotations': 0,\n",
       " 'math_alttext': 0,\n",
       " 'mathml': 0,\n",
       " 'mathjax_tag': 0,\n",
       " 'mathjax_inline_tex': 1,\n",
       " 'mathjax_display_tex': 0,\n",
       " 'mathjax_asciimath': 0,\n",
       " 'img_math': 0,\n",
       " 'codecogs_latex': 0,\n",
       " 'wp_latex': 0,\n",
       " 'mimetex.cgi': 0,\n",
       " '/images/math/codecogs': 0,\n",
       " 'mathtex.cgi': 0,\n",
       " 'katex': 0,\n",
       " 'math-container': 0,\n",
       " 'wp-katex-eq': 0,\n",
       " 'align': 0,\n",
       " 'equation': 0,\n",
       " 'x-ck12': 0,\n",
       " 'texerror': 0}"
      ]
     },
     "execution_count": 17,
     "metadata": {},
     "output_type": "execute_result"
    }
   ],
   "source": [
    "df[\"metadata\"] = df[\"metadata\"].apply(json.loads)\n",
    "df.loc[0, \"metadata\"]"
   ]
  },
  {
   "cell_type": "code",
   "execution_count": 18,
   "metadata": {},
   "outputs": [
    {
     "name": "stdout",
     "output_type": "stream",
     "text": [
      "All rows in metadata column have the same fields\n"
     ]
    }
   ],
   "source": [
    "def check_metadata_fields(df):\n",
    "    first_metadata_keys = set(df.loc[0, \"metadata\"].keys())\n",
    "    all_same_fields = True\n",
    "\n",
    "    for i, metadata in enumerate(df[\"metadata\"]):\n",
    "        if set(metadata.keys()) != first_metadata_keys:\n",
    "            all_same_fields = False\n",
    "            print(f\"Row {i} has different metadata fields than the first row\")\n",
    "            print(f\"First row fields: {first_metadata_keys}\")\n",
    "            print(f\"Row {i} fields: {set(metadata.keys())}\")\n",
    "            break\n",
    "\n",
    "    assert all_same_fields, \"Not all rows have the same metadata fields\"\n",
    "    print(\"All rows in metadata column have the same fields\")\n",
    "\n",
    "\n",
    "check_metadata_fields(df)\n"
   ]
  },
  {
   "cell_type": "code",
   "execution_count": 19,
   "metadata": {},
   "outputs": [
    {
     "name": "stdout",
     "output_type": "stream",
     "text": [
      "Extracting 23 metadata fields to separate columns\n",
      "Created new columns: metadata_found_math, metadata_script_math_tex, metadata_script_math_asciimath, metadata_math_annotations, metadata_math_alttext, metadata_mathml, metadata_mathjax_tag, metadata_mathjax_inline_tex, metadata_mathjax_display_tex, metadata_mathjax_asciimath, metadata_img_math, metadata_codecogs_latex, metadata_wp_latex, metadata_mimetex.cgi, metadata_/images/math/codecogs, metadata_mathtex.cgi, metadata_katex, metadata_math-container, metadata_wp-katex-eq, metadata_align, metadata_equation, metadata_x-ck12, metadata_texerror\n",
      "Dropped original metadata column\n"
     ]
    }
   ],
   "source": [
    "def extract_metadata_fields(df):\n",
    "    metadata_fields = list(df.loc[0, \"metadata\"].keys())\n",
    "    print(f\"Extracting {len(metadata_fields)} metadata fields to separate columns\")\n",
    "\n",
    "    for field in metadata_fields:\n",
    "        df[f\"metadata_{field}\"] = df[\"metadata\"].apply(lambda x: x.get(field, None))\n",
    "\n",
    "    df.drop(\"metadata\", axis=1, inplace=True)\n",
    "    print(f\"Created new columns: {', '.join(['metadata_' + field for field in metadata_fields])}\")\n",
    "    print(f\"Dropped original metadata column\")\n",
    "\n",
    "\n",
    "extract_metadata_fields(df)\n"
   ]
  },
  {
   "cell_type": "markdown",
   "metadata": {},
   "source": [
    "### categorical variables\n",
    "\n",
    "Identify and convert to numeric.\n"
   ]
  },
  {
   "cell_type": "code",
   "execution_count": 20,
   "metadata": {},
   "outputs": [
    {
     "name": "stdout",
     "output_type": "stream",
     "text": [
      "33 continuous variables, 15 categorical variables\n"
     ]
    }
   ],
   "source": [
    "def cont_cat_split(df, max_card=20, dep_var=None):\n",
    "    cont_names, cat_names = [], []\n",
    "    for label in df:\n",
    "        if label == \"score\":\n",
    "            continue\n",
    "        if (\n",
    "            pd.api.types.is_integer_dtype(df[label].dtype)\n",
    "            and df[label].unique().shape[0] > max_card\n",
    "        ) or pd.api.types.is_float_dtype(df[label].dtype):\n",
    "            cont_names.append(label)\n",
    "        else:\n",
    "            cat_names.append(label)\n",
    "    return cont_names, cat_names\n",
    "\n",
    "\n",
    "cont, cat = cont_cat_split(df, 1, dep_var=\"score\")\n",
    "print(f\"{len(cont)} continuous variables, {len(cat)} categorical variables\")"
   ]
  },
  {
   "cell_type": "markdown",
   "metadata": {},
   "source": [
    "#### text columns\n",
    "\n",
    "Determine via high cardinality and convert to numeric via TF-IDF.\n"
   ]
  },
  {
   "cell_type": "code",
   "execution_count": 21,
   "metadata": {},
   "outputs": [
    {
     "data": {
      "text/plain": [
       "(['content_mime_type',\n",
       "  'crawl',\n",
       "  'snapshot_type',\n",
       "  'language',\n",
       "  'fetch_timeIs_month_end',\n",
       "  'fetch_timeIs_month_start',\n",
       "  'fetch_timeIs_quarter_end',\n",
       "  'fetch_timeIs_quarter_start',\n",
       "  'fetch_timeIs_year_end',\n",
       "  'fetch_timeIs_year_start',\n",
       "  'metadata_found_math',\n",
       "  'metadata_katex'],\n",
       " ['url', 'warc_filename', 'text'])"
      ]
     },
     "execution_count": 21,
     "metadata": {},
     "output_type": "execute_result"
    }
   ],
   "source": [
    "low_card_cat = [col for col in cat if df[col].nunique() < 10000]\n",
    "text_cols = list(set(cat) - set(low_card_cat))\n",
    "cat = low_card_cat\n",
    "cat, text_cols\n"
   ]
  },
  {
   "cell_type": "code",
   "execution_count": 22,
   "metadata": {},
   "outputs": [
    {
     "name": "stdout",
     "output_type": "stream",
     "text": [
      "Added 300 TF-IDF features from 3 text columns\n"
     ]
    }
   ],
   "source": [
    "def process_text_columns(df, text_columns, max_features=100):\n",
    "    tfidf_matrix = None\n",
    "    tfidf = TfidfVectorizer(max_features=max_features)\n",
    "    \n",
    "    for col in text_columns:\n",
    "        text = df[col]\n",
    "        col_tfidf = tfidf.fit_transform(text)\n",
    "        if tfidf_matrix is None:\n",
    "            tfidf_matrix = col_tfidf\n",
    "        else:\n",
    "            tfidf_matrix = hstack([tfidf_matrix, col_tfidf])\n",
    "\n",
    "    feature_names = []\n",
    "    for col in text_columns:\n",
    "        for i in range(len(tfidf.get_feature_names_out())):\n",
    "            feature_names.append(f\"{col}_tfidf_{i}\")\n",
    "    \n",
    "    tfidf_df = pd.DataFrame(tfidf_matrix.toarray(), columns=feature_names)\n",
    "    df = pd.concat([df, tfidf_df], axis=1)\n",
    "    df.drop(columns=text_cols, inplace=True)\n",
    "    return df\n",
    "\n",
    "\n",
    "df = process_text_columns(\n",
    "    df, text_cols\n",
    ")\n",
    "tfidf_feature_names = [col for col in df.columns if '_tfidf_' in col]\n",
    "cont.extend(tfidf_feature_names)\n",
    "print(f\"Added {len(tfidf_feature_names)} TF-IDF features from {len(text_cols)} text columns\")"
   ]
  },
  {
   "cell_type": "markdown",
   "metadata": {},
   "source": [
    "#### convert to codes\n"
   ]
  },
  {
   "cell_type": "code",
   "execution_count": 23,
   "metadata": {},
   "outputs": [
    {
     "data": {
      "text/plain": [
       "0    1\n",
       "1    1\n",
       "2    1\n",
       "3    1\n",
       "4    1\n",
       "5    1\n",
       "Name: content_mime_type, dtype: int8"
      ]
     },
     "execution_count": 23,
     "metadata": {},
     "output_type": "execute_result"
    }
   ],
   "source": [
    "for col in cat:\n",
    "    df[col] = df[col].astype(\"category\").cat.codes\n",
    "\n",
    "df.loc[:5, cat[0]]"
   ]
  },
  {
   "cell_type": "markdown",
   "metadata": {},
   "source": [
    "### check for missing values"
   ]
  },
  {
   "cell_type": "code",
   "execution_count": 24,
   "metadata": {},
   "outputs": [
    {
     "name": "stdout",
     "output_type": "stream",
     "text": [
      "Dataset has missing values: False\n"
     ]
    }
   ],
   "source": [
    "has_missing = df.isnull().any().any()\n",
    "print(f\"Dataset has missing values: {has_missing}\")\n",
    "if has_missing:\n",
    "    print(\"\\nColumns with missing values:\")\n",
    "    print(df.columns[df.isnull().any()].tolist())\n"
   ]
  },
  {
   "cell_type": "markdown",
   "metadata": {},
   "source": [
    "### train:valid:test split\n",
    "\n",
    ".8:.1:.1"
   ]
  },
  {
   "cell_type": "code",
   "execution_count": 25,
   "metadata": {},
   "outputs": [
    {
     "data": {
      "text/plain": [
       "'fetch_timeYear fetch_timeMonth fetch_timeWeek fetch_timeDay fetch_timeDayofweek fetch_timeDayofyear fetch_timeIs_month_end fetch_timeIs_month_start fetch_timeIs_quarter_end fetch_timeIs_quarter_start fetch_timeIs_year_end fetch_timeIs_year_start fetch_timeElapsed'"
      ]
     },
     "execution_count": 25,
     "metadata": {},
     "output_type": "execute_result"
    }
   ],
   "source": [
    "\" \".join(o for o in df.columns if o.startswith(\"fetch_time\"))"
   ]
  },
  {
   "cell_type": "code",
   "execution_count": 26,
   "metadata": {},
   "outputs": [
    {
     "name": "stdout",
     "output_type": "stream",
     "text": [
      "Split sizes: Train=80000, Valid=10000, Test=10000\n"
     ]
    }
   ],
   "source": [
    "df = df.sort_values('fetch_timeElapsed')\n",
    "\n",
    "total_rows = len(df)\n",
    "train_end_idx = int(total_rows * 0.8)\n",
    "valid_end_idx = train_end_idx + int(total_rows * 0.1)\n",
    "\n",
    "train_df = df.iloc[:train_end_idx].copy()\n",
    "valid_df = df.iloc[train_end_idx:valid_end_idx].copy()\n",
    "test_df = df.iloc[valid_end_idx:].copy()\n",
    "\n",
    "print(f\"Split sizes: Train={len(train_df)}, Valid={len(valid_df)}, Test={len(test_df)}\")\n"
   ]
  },
  {
   "cell_type": "code",
   "execution_count": 27,
   "metadata": {},
   "outputs": [
    {
     "name": "stdout",
     "output_type": "stream",
     "text": [
      "Chronological order verified for all datasets\n"
     ]
    }
   ],
   "source": [
    "assert train_df['fetch_timeElapsed'].is_monotonic_increasing, \"Train data is not in chronological order\"\n",
    "assert valid_df['fetch_timeElapsed'].is_monotonic_increasing, \"Validation data is not in chronological order\"\n",
    "assert test_df['fetch_timeElapsed'].is_monotonic_increasing, \"Test data is not in chronological order\"\n",
    "\n",
    "assert train_df['fetch_timeElapsed'].max() <= valid_df['fetch_timeElapsed'].min(), \"Train and validation time periods overlap\"\n",
    "assert valid_df['fetch_timeElapsed'].max() <= test_df['fetch_timeElapsed'].min(), \"Validation and test time periods overlap\"\n",
    "\n",
    "print(\"Chronological order verified for all datasets\")\n"
   ]
  },
  {
   "cell_type": "markdown",
   "metadata": {},
   "source": [
    "### save to disk\n"
   ]
  },
  {
   "cell_type": "code",
   "execution_count": 28,
   "metadata": {},
   "outputs": [],
   "source": [
    "if not os.path.exists(processed_path):\n",
    "    os.mkdir(processed_path)\n",
    "train_df.to_csv(processed_path + \"train.csv.gz\", compression=\"gzip\", index=False)\n",
    "valid_df.to_csv(processed_path + \"valid_manual.csv.gz\", compression=\"gzip\", index=False)\n",
    "test_df.to_csv(path_or_buf=processed_path + \"test_manual.csv.gz\", compression=\"gzip\", index=False)\n"
   ]
  },
  {
   "cell_type": "markdown",
   "metadata": {},
   "source": [
    "# column pruning and model fitting\n"
   ]
  },
  {
   "cell_type": "code",
   "execution_count": null,
   "metadata": {},
   "outputs": [],
   "source": [
    "train_df = pd.read_csv(processed_path + \"train.csv.gz\", compression=\"gzip\", low_memory=False)\n",
    "valid_df = pd.read_csv(processed_path + \"valid.csv.gz\", compression=\"gzip\", low_memory=False)\n",
    "test_df = pd.read_csv(processed_path + \"test.csv.gz\", compression=\"gzip\", low_memory=False)\n",
    "\n",
    "train_df.columns\n"
   ]
  },
  {
   "cell_type": "markdown",
   "metadata": {},
   "source": [
    "## decision tree\n"
   ]
  },
  {
   "cell_type": "markdown",
   "metadata": {},
   "source": [
    "### testing visualization\n"
   ]
  },
  {
   "cell_type": "code",
   "execution_count": null,
   "metadata": {},
   "outputs": [],
   "source": [
    "xs_train = train_df.drop(columns=[\"score\"])\n",
    "y_train = train_df[\"score\"]\n",
    "\n",
    "m = DecisionTreeRegressor(max_leaf_nodes=4)\n",
    "m.fit(xs_train, y_train)\n"
   ]
  },
  {
   "cell_type": "code",
   "execution_count": null,
   "metadata": {},
   "outputs": [],
   "source": [
    "def draw_tree(t, df, size=10, ratio=0.6, precision=0, **kwargs):\n",
    "    s = export_graphviz(\n",
    "        t,\n",
    "        out_file=None,\n",
    "        feature_names=df.columns,\n",
    "        filled=True,\n",
    "        rounded=True,\n",
    "        special_characters=True,\n",
    "        rotate=False,\n",
    "        precision=precision,\n",
    "        **kwargs,\n",
    "    )\n",
    "    return graphviz.Source(re.sub(\"Tree {\", f\"Tree {{ size={size}; ratio={ratio}\", s))\n",
    "\n",
    "\n",
    "draw_tree(m, xs_train, size=10, leaves_parallel=True, precision=2)\n"
   ]
  },
  {
   "cell_type": "code",
   "execution_count": null,
   "metadata": {},
   "outputs": [],
   "source": [
    "samp_idx = np.random.permutation(len(y_train))[:500]\n",
    "dtreeviz(\n",
    "    m,\n",
    "    xs_train.iloc[samp_idx],\n",
    "    y_train.iloc[samp_idx],\n",
    "    xs_train.columns,\n",
    "    \"score\",\n",
    "    fontname=\"DejaVu Sans\",\n",
    "    scale=1.6,\n",
    "    label_fontsize=10,\n",
    "    orientation=\"LR\",\n",
    ")\n"
   ]
  },
  {
   "cell_type": "markdown",
   "metadata": {},
   "source": [
    "### full tree\n",
    "\n",
    "Check that overfitting occurs without setting min_samples_leaf.\n"
   ]
  },
  {
   "cell_type": "code",
   "execution_count": 45,
   "metadata": {},
   "outputs": [],
   "source": [
    "m = DecisionTreeRegressor()\n",
    "m.fit(xs_train, y_train);\n"
   ]
  },
  {
   "cell_type": "code",
   "execution_count": null,
   "metadata": {},
   "outputs": [],
   "source": [
    "xs_valid = valid_df.drop(columns=[\"score\"])\n",
    "y_valid = valid_df[\"score\"]\n",
    "\n",
    "\n",
    "def r_mse(pred, y):\n",
    "    return round(math.sqrt(((pred - y) ** 2).mean()), 6)\n",
    "\n",
    "\n",
    "def m_rmse(m, xs, y):\n",
    "    return r_mse(m.predict(xs), y)\n",
    "\n",
    "\n",
    "m_rmse(m, xs_train, y_train), m_rmse(m, xs_valid, y_valid)\n"
   ]
  },
  {
   "cell_type": "code",
   "execution_count": null,
   "metadata": {},
   "outputs": [],
   "source": [
    "m.get_n_leaves(), len(xs_train)\n"
   ]
  },
  {
   "cell_type": "markdown",
   "metadata": {},
   "source": [
    "### pruned tree\n"
   ]
  },
  {
   "cell_type": "code",
   "execution_count": null,
   "metadata": {},
   "outputs": [],
   "source": [
    "m = DecisionTreeRegressor(min_samples_leaf=100)\n",
    "m.fit(xs_train, y_train)\n",
    "m_rmse(m, xs_train, y_train), m_rmse(m, xs_valid, y_valid)\n"
   ]
  },
  {
   "cell_type": "code",
   "execution_count": null,
   "metadata": {},
   "outputs": [],
   "source": [
    "m.get_n_leaves()\n"
   ]
  },
  {
   "cell_type": "markdown",
   "metadata": {},
   "source": [
    "## random forest\n"
   ]
  },
  {
   "cell_type": "code",
   "execution_count": null,
   "metadata": {},
   "outputs": [],
   "source": [
    "def rf(\n",
    "    xs,\n",
    "    y,\n",
    "    n_estimators=40,  # for sake of speed\n",
    "    max_samples=1.0,\n",
    "    max_features=0.5,\n",
    "    min_samples_leaf=5,\n",
    "    **kwargs,\n",
    "):\n",
    "    return RandomForestRegressor(\n",
    "        n_jobs=-1,\n",
    "        n_estimators=n_estimators,\n",
    "        max_samples=max_samples,\n",
    "        max_features=max_features,\n",
    "        min_samples_leaf=min_samples_leaf,\n",
    "        oob_score=True,\n",
    "        **kwargs,\n",
    "    ).fit(xs, y)\n",
    "\n",
    "\n",
    "m = rf(xs_train, y_train)\n",
    "m_rmse(m, xs_train, y_train), m_rmse(m, xs_valid, y_valid)\n"
   ]
  },
  {
   "cell_type": "markdown",
   "metadata": {},
   "source": [
    "### check impact of n_estimators\n"
   ]
  },
  {
   "cell_type": "code",
   "execution_count": null,
   "metadata": {},
   "outputs": [],
   "source": [
    "preds = np.stack([t.predict(xs_valid.values) for t in m.estimators_])\n",
    "r_mse(preds.mean(0), y_valid)\n"
   ]
  },
  {
   "cell_type": "code",
   "execution_count": null,
   "metadata": {},
   "outputs": [],
   "source": [
    "plt.plot([r_mse(preds[: i + 1].mean(0), y_valid) for i in range(40)])\n",
    "plt.show()\n"
   ]
  },
  {
   "cell_type": "markdown",
   "metadata": {},
   "source": [
    "### out-of-bag error\n",
    "\n",
    "I.e., measure of error on training data by only including in each row's prediction the trees that didn't use that row in training.\n"
   ]
  },
  {
   "cell_type": "code",
   "execution_count": null,
   "metadata": {},
   "outputs": [],
   "source": [
    "r_mse(m.oob_prediction_, y_train)\n"
   ]
  },
  {
   "cell_type": "markdown",
   "metadata": {},
   "source": [
    "### tree variance for prediction confidence\n",
    "\n",
    "Trying to answer: How confident are we in our predictions using a particular row of data?\n"
   ]
  },
  {
   "cell_type": "code",
   "execution_count": null,
   "metadata": {},
   "outputs": [],
   "source": [
    "preds = np.stack([t.predict(xs_valid.values) for t in m.estimators_])\n",
    "preds.shape  # (n_estimators, n_samples)"
   ]
  },
  {
   "cell_type": "code",
   "execution_count": null,
   "metadata": {},
   "outputs": [],
   "source": [
    "preds_std = preds.std(0)\n",
    "preds_std[:5]\n"
   ]
  },
  {
   "cell_type": "markdown",
   "metadata": {},
   "source": [
    "### feature importance\n",
    "\n",
    "Algorithm:\n",
    "\n",
    "1. For each tree, recursively explore each branch.\n",
    "2. At each branch, determine what feature was used for that split, and how much the model improves as a result of that split.\n",
    "3. Add the improvement (weighted by the number of rows in that group) to the importance score for that feature.\n",
    "4. Sum the importance scores across all branches of all trees, and finally normalize the scores such that they add to 1.\n",
    "\n",
    "Trying to answer:\n",
    "\n",
    "- Which columns are the strongest predictors, which can we ignore?\n",
    "- Which columns are effectively redundant with each other, for purposes of prediction?\n",
    "- How do predictions vary, as we vary these columns?\n"
   ]
  },
  {
   "cell_type": "code",
   "execution_count": null,
   "metadata": {},
   "outputs": [],
   "source": [
    "def rf_feat_importance(m, df):\n",
    "    return pd.DataFrame(\n",
    "        {\"cols\": df.columns, \"imp\": m.feature_importances_}\n",
    "    ).sort_values(\"imp\", ascending=False)\n",
    "\n",
    "\n",
    "fi = rf_feat_importance(m, xs_train)\n",
    "fi[:10]"
   ]
  },
  {
   "cell_type": "code",
   "execution_count": null,
   "metadata": {},
   "outputs": [],
   "source": [
    "def plot_fi(fi):\n",
    "    return fi.plot(\"cols\", \"imp\", \"barh\", figsize=(12, 7), legend=False)\n",
    "\n",
    "\n",
    "plot_fi(fi[:30]);"
   ]
  },
  {
   "cell_type": "markdown",
   "metadata": {},
   "source": [
    "#### remove low importance features\n"
   ]
  },
  {
   "cell_type": "code",
   "execution_count": null,
   "metadata": {},
   "outputs": [],
   "source": [
    "to_keep = fi[fi.imp > 0.01].cols\n",
    "len(to_keep)\n"
   ]
  },
  {
   "cell_type": "code",
   "execution_count": null,
   "metadata": {},
   "outputs": [],
   "source": [
    "xs_imp = xs_train[to_keep]\n",
    "valid_xs_imp = xs_valid[to_keep]\n",
    "m = rf(xs_imp, y_train)\n",
    "m_rmse(m, xs_imp, y_train), m_rmse(m, valid_xs_imp, y_valid)\n"
   ]
  },
  {
   "cell_type": "code",
   "execution_count": null,
   "metadata": {},
   "outputs": [],
   "source": [
    "len(xs_train.columns), len(xs_imp.columns)\n"
   ]
  },
  {
   "cell_type": "code",
   "execution_count": null,
   "metadata": {},
   "outputs": [],
   "source": [
    "plot_fi(rf_feat_importance(m, xs_imp));\n"
   ]
  },
  {
   "cell_type": "markdown",
   "metadata": {},
   "source": [
    "#### remove redundant features\n",
    "\n",
    "Determine pairs of features that are highly correlated, and remove the least important one from each pair. Similarity is calculated via rank correlation where all values are replaced with rank (1, 2, 3, ...), then the correlation is calculated.\n"
   ]
  },
  {
   "cell_type": "code",
   "execution_count": null,
   "metadata": {},
   "outputs": [],
   "source": [
    "def cluster_columns(df, figsize=(10, 6), font_size=12):\n",
    "    corr = np.round(scipy.stats.spearmanr(df).correlation, 4)\n",
    "    corr_condensed = hc.distance.squareform(1 - corr)\n",
    "    z = hc.linkage(corr_condensed, method=\"average\")\n",
    "    plt.figure(figsize=figsize)\n",
    "    hc.dendrogram(z, labels=df.columns, orientation=\"left\", leaf_font_size=font_size)\n",
    "    plt.show()\n",
    "\n",
    "\n",
    "cluster_columns(xs_imp)\n"
   ]
  },
  {
   "cell_type": "code",
   "execution_count": null,
   "metadata": {},
   "outputs": [],
   "source": [
    "def get_oob(df):\n",
    "    m = RandomForestRegressor(\n",
    "        n_estimators=40,\n",
    "        min_samples_leaf=15,\n",
    "        max_samples=50000,\n",
    "        max_features=0.5,\n",
    "        n_jobs=-1,\n",
    "        oob_score=True,  # 1.0 for perfect fit, 0.0 for random fit\n",
    "    )\n",
    "    m.fit(df, y_train)\n",
    "    return m.oob_score_\n",
    "\n",
    "\n",
    "get_oob(xs_imp)"
   ]
  },
  {
   "cell_type": "markdown",
   "metadata": {},
   "source": [
    "Try removing potentially redundant features (merged early, i.e., closer to the right)\n"
   ]
  },
  {
   "cell_type": "code",
   "execution_count": null,
   "metadata": {},
   "outputs": [],
   "source": [
    "{\n",
    "    c: get_oob(xs_imp.drop(c, axis=1))\n",
    "    for c in (\n",
    "        \"char_count\",\n",
    "        \"token_count\",\n",
    "        \"text_tfidf_55\",\n",
    "        \"text_tfidf_54\",\n",
    "        \"text_tfidf_42\",\n",
    "        \"text_tfidf_18\",\n",
    "    )\n",
    "}\n"
   ]
  },
  {
   "cell_type": "markdown",
   "metadata": {},
   "source": [
    "None give significant improvement, so we keep all features."
   ]
  },
  {
   "cell_type": "markdown",
   "metadata": {},
   "source": [
    "#### partial dependence\n",
    "\n",
    "Check relationship between accommodates + bedrooms (two most important features) and score\n",
    "\n",
    "Trying to answer: if a row varied on nothing other than the feature in question, how would it impact the dependent variable?\n"
   ]
  },
  {
   "cell_type": "code",
   "execution_count": null,
   "metadata": {},
   "outputs": [],
   "source": [
    "ax = valid_xs_imp[\"text_tfidf_90\"].hist()"
   ]
  },
  {
   "cell_type": "code",
   "execution_count": null,
   "metadata": {},
   "outputs": [],
   "source": [
    "ax = valid_xs_imp[\"token_count\"].hist()\n"
   ]
  },
  {
   "cell_type": "code",
   "execution_count": null,
   "metadata": {},
   "outputs": [],
   "source": [
    "fig, ax = plt.subplots(figsize=(12, 4))\n",
    "PartialDependenceDisplay.from_estimator(\n",
    "    m, valid_xs_imp, [\"text_tfidf_90\", \"token_count\"], grid_resolution=20, ax=ax\n",
    ");\n"
   ]
  },
  {
   "cell_type": "markdown",
   "metadata": {},
   "source": [
    "From first graph, text_tfidf_90 seems to have near linear relationship with normalized score. From the second graph, token_count seems to also have a linear relationship with normalized score until 600 tokens, after which it seems to have no relationship with normalized score. This is probably indicative of some outlier(s).\n"
   ]
  },
  {
   "cell_type": "markdown",
   "metadata": {},
   "source": [
    "#### tree interpreter\n",
    "\n",
    "Algorithm:\n",
    "\n",
    "1. For the row in question, put it through the first decision tree to see what split is used at each point throughout the tree.\n",
    "2. For each split, see what the increase or decrease in the addition is, compared to the parent node of the tree.\n",
    "3. Do this for every tree, and add up the total change in importance by split variable.\n",
    "\n",
    "Trying to answer: For predicting with a particular row of data, what were the most important factors, and how did they influence that prediction?\n"
   ]
  },
  {
   "cell_type": "code",
   "execution_count": null,
   "metadata": {},
   "outputs": [],
   "source": [
    "row = valid_xs_imp.iloc[:5]\n",
    "prediction, bias, contributions = treeinterpreter.predict(\n",
    "    m, row.values\n",
    ")  # contributions + bias = prediction\n",
    "prediction[0], bias[0], contributions[0].sum()"
   ]
  },
  {
   "cell_type": "code",
   "execution_count": null,
   "metadata": {},
   "outputs": [],
   "source": [
    "waterfall(\n",
    "    valid_xs_imp.columns,\n",
    "    contributions[0],\n",
    "    threshold=0.08,\n",
    "    rotation_value=45,\n",
    "    formatting=\"{:,.3f}\",\n",
    ");\n"
   ]
  },
  {
   "cell_type": "markdown",
   "metadata": {},
   "source": [
    "### extrapolation problem\n",
    "\n",
    "Check if training data is representative of test data by building random forest on combined training and validation data with dependent variable indicating whether a listing is in the training or validation set.\n"
   ]
  },
  {
   "cell_type": "code",
   "execution_count": null,
   "metadata": {},
   "outputs": [],
   "source": [
    "df_dom = pd.concat([xs_imp, valid_xs_imp])\n",
    "is_valid = np.array([0] * len(xs_imp) + [1] * len(valid_xs_imp))\n",
    "\n",
    "m = rf(df_dom, is_valid)\n",
    "rf_feat_importance(m, df_dom)[:6]\n"
   ]
  },
  {
   "cell_type": "markdown",
   "metadata": {},
   "source": [
    "Checking if removing these features would improve model performance.\n"
   ]
  },
  {
   "cell_type": "code",
   "execution_count": null,
   "metadata": {},
   "outputs": [],
   "source": [
    "to_drop = [\n",
    "    \"warc_record_offset\",\n",
    "    \"warc_record_length\",\n",
    "]\n",
    "\n",
    "for c in to_drop:\n",
    "    temp_train = xs_imp.drop(c, axis=1)\n",
    "    temp_valid = valid_xs_imp.drop(c, axis=1)\n",
    "    m = rf(temp_train, y_train)\n",
    "    print(\n",
    "        c,\n",
    "        m_rmse(m, temp_train, y_train),\n",
    "        m_rmse(m, temp_valid, y_valid),\n",
    "    )"
   ]
  },
  {
   "cell_type": "markdown",
   "metadata": {},
   "source": [
    "It does, so we remove them."
   ]
  },
  {
   "cell_type": "code",
   "execution_count": null,
   "metadata": {},
   "outputs": [],
   "source": [
    "xs_filter = xs_imp.drop(\"warc_record_offset\", axis=1)\n",
    "valid_xs_filter = valid_xs_imp.drop(\"warc_record_offset\", axis=1)\n",
    "\n",
    "m = rf(xs_filter, y_train)\n",
    "m_rmse(m, xs_filter, y_train), m_rmse(m, valid_xs_filter, y_valid)\n"
   ]
  },
  {
   "cell_type": "markdown",
   "metadata": {},
   "source": [
    "## histogram gradient boosting\n",
    "\n",
    "Inspired by LightGBM, which in turn was inspired by XGBoost.\n"
   ]
  },
  {
   "cell_type": "code",
   "execution_count": null,
   "metadata": {},
   "outputs": [],
   "source": [
    "def hg(\n",
    "    xs,\n",
    "    y,\n",
    "    learning_rate=0.1,\n",
    "    max_iter=1000,\n",
    "    min_samples_leaf=31,\n",
    "    **kwargs,\n",
    "):\n",
    "    return HistGradientBoostingRegressor(\n",
    "        loss=\"squared_error\",\n",
    "        learning_rate=learning_rate,\n",
    "        max_iter=max_iter,\n",
    "        min_samples_leaf=min_samples_leaf,\n",
    "        **kwargs,\n",
    "    ).fit(xs, y)\n",
    "\n",
    "\n",
    "m = hg(xs_filter, y_train)\n",
    "m_rmse(m, xs_filter, y_train), m_rmse(m, valid_xs_filter, y_valid)\n"
   ]
  },
  {
   "cell_type": "markdown",
   "metadata": {},
   "source": [
    "## get test set predictions\n"
   ]
  },
  {
   "cell_type": "code",
   "execution_count": null,
   "metadata": {},
   "outputs": [],
   "source": [
    "pred_test_df = test_df[xs_filter.columns].copy()\n",
    "\n",
    "m = hg(xs_filter, y_train)\n",
    "pred_test_df.loc[:, \"pred_score\"] = m.predict(pred_test_df)\n",
    "pred_test_df.loc[:, \"score\"] = test_df[\"score\"]\n",
    "\n",
    "errors = pred_test_df[\"score\"] - pred_test_df[\"pred_score\"]\n",
    "abs_errors = errors.abs()\n",
    "abs_min_error = abs_errors.min()\n",
    "abs_max_error = abs_errors.max()\n",
    "mean_abs_error = abs_errors.mean()\n",
    "median_abs_error = abs_errors.median()\n",
    "abs_std_error = abs_errors.std()\n",
    "\n",
    "print(f\"Absolute Min Error: {abs_min_error:.6f}\")\n",
    "print(f\"Absolute Max Error: {abs_max_error:.6f}\")\n",
    "print(f\"Mean Absolute Error: {mean_abs_error:.6f}\")\n",
    "print(f\"Median Absolute Error: {median_abs_error:.6f}\")\n",
    "print(f\"Standard Deviation of Absolute Error: {abs_std_error:.6f}\")"
   ]
  },
  {
   "cell_type": "code",
   "execution_count": null,
   "metadata": {},
   "outputs": [],
   "source": [
    "pred_test_df.loc[:, \"score_recovered\"] = int_tf.inverse_transform(pred_test_df[\"score\"])\n",
    "pred_test_df.loc[:, \"pred_score_recovered\"] = int_tf.inverse_transform(pred_test_df[\"pred_score\"])\n",
    "\n",
    "errors = pred_test_df[\"score_recovered\"] - pred_test_df[\"pred_score_recovered\"]\n",
    "abs_errors = errors.abs()\n",
    "abs_min_error = abs_errors.min()\n",
    "abs_max_error = abs_errors.max()\n",
    "mean_abs_error = abs_errors.mean()\n",
    "median_abs_error = abs_errors.median()\n",
    "abs_std_error = abs_errors.std()\n",
    "\n",
    "print(f\"Absolute Min Error: {abs_min_error:.6f}\")\n",
    "print(f\"Absolute Max Error: {abs_max_error:.6f}\")\n",
    "print(f\"Mean Absolute Error: {mean_abs_error:.6f}\")\n",
    "print(f\"Median Absolute Error: {median_abs_error:.6f}\")\n",
    "print(f\"Standard Deviation of Absolute Error: {abs_std_error:.6f}\")"
   ]
  },
  {
   "cell_type": "code",
   "execution_count": null,
   "metadata": {},
   "outputs": [],
   "source": []
  }
 ],
 "metadata": {
  "kernelspec": {
   "display_name": ".venv",
   "language": "python",
   "name": "python3"
  },
  "language_info": {
   "codemirror_mode": {
    "name": "ipython",
    "version": 3
   },
   "file_extension": ".py",
   "mimetype": "text/x-python",
   "name": "python",
   "nbconvert_exporter": "python",
   "pygments_lexer": "ipython3",
   "version": "3.12.5"
  }
 },
 "nbformat": 4,
 "nbformat_minor": 4
}
